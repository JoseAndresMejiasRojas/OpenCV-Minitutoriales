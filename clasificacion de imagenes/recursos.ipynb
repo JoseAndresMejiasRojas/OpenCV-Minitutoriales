{
 "cells": [
  {
   "cell_type": "markdown",
   "id": "52d98603-120d-4ce3-84ee-4fdb402b5f8f",
   "metadata": {},
   "source": [
    "- https://youtu.be/iGWbqhdjf2s\n",
    "- https://youtu.be/Gz_PsRRxrHM\n",
    "- https://pythonistaplanet.com/cifar-10-image-classification-using-keras/"
   ]
  },
  {
   "cell_type": "code",
   "execution_count": null,
   "id": "4899fa9d-57b6-4f0e-95be-c33d8ee770ac",
   "metadata": {},
   "outputs": [],
   "source": []
  }
 ],
 "metadata": {
  "kernelspec": {
   "display_name": "Python 3 (ipykernel)",
   "language": "python",
   "name": "python3"
  },
  "language_info": {
   "codemirror_mode": {
    "name": "ipython",
    "version": 3
   },
   "file_extension": ".py",
   "mimetype": "text/x-python",
   "name": "python",
   "nbconvert_exporter": "python",
   "pygments_lexer": "ipython3",
   "version": "3.9.7"
  }
 },
 "nbformat": 4,
 "nbformat_minor": 5
}
