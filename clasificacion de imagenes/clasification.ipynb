{
 "cells": [
  {
   "cell_type": "markdown",
   "id": "3dfceda9-43bc-4e1e-a1a7-f9e36184d0c1",
   "metadata": {},
   "source": [
    "# Clasificación de imágenes"
   ]
  },
  {
   "cell_type": "markdown",
   "id": "1f9b2234-ef81-423a-93bb-e157ada7b172",
   "metadata": {},
   "source": [
    "## Cargar y explorar datos\n",
    "\n",
    "Primeramente cargamos los datos desde un dataset real que provee keras. Este dataset contiene **imágenes**, representadas de ahora en adelante con una *x* (`x_train`, `x_test`) y sus respectivas **etiquetas**, representadas con una *y* (`y_train`, `y_test`). Note que los 4 resultados que brinda `load_data()` son de tipo ndarray, que es del paquete numpy."
   ]
  },
  {
   "cell_type": "code",
   "execution_count": 1,
   "id": "d4cc2d10-043a-4699-a670-96cd13a59b95",
   "metadata": {},
   "outputs": [
    {
     "name": "stdout",
     "output_type": "stream",
     "text": [
      "<class 'numpy.ndarray'> <class 'numpy.ndarray'> <class 'numpy.ndarray'> <class 'numpy.ndarray'>\n"
     ]
    }
   ],
   "source": [
    "from keras.datasets import cifar10\n",
    "(x_train, y_train), (x_test, y_test) = cifar10.load_data()\n",
    "\n",
    "print(type(x_train), type(y_train), type(x_test), type(y_test))"
   ]
  },
  {
   "cell_type": "markdown",
   "id": "80bced6a-0a7d-4767-a716-5d1e0aef737a",
   "metadata": {},
   "source": [
    "El primer valor de los 4 arrays son las filas. Por lo tanto, las imágenes y etiquetas de entrenamiento tienen 50000 filas, y las imágenes y etiquetas de prueba tienen 10000. Todas las etiquetas tienen una sola columna indicando la etiqueta a la que pertenece su análogo en *x*. Sin embargo, lo interesante son las dimensiones de las imágenes. Cada fila de *x* tiene una imagen de 32x32 con 3 colores (rojo, verde, azul)."
   ]
  },
  {
   "cell_type": "code",
   "execution_count": 2,
   "id": "b8543f7c-2778-4d8b-8820-1917c8bb36f2",
   "metadata": {},
   "outputs": [
    {
     "name": "stdout",
     "output_type": "stream",
     "text": [
      "x_train shape:  (50000, 32, 32, 3)\n",
      "y_train shape:  (50000, 1)\n",
      "x_test shape:  (10000, 32, 32, 3)\n",
      "y_test shape:  (10000, 1)\n"
     ]
    }
   ],
   "source": [
    "print(\"x_train shape: \", x_train.shape)\n",
    "print(\"y_train shape: \", y_train.shape)\n",
    "print(\"x_test shape: \", x_test.shape)\n",
    "print(\"y_test shape: \", y_test.shape)"
   ]
  },
  {
   "cell_type": "markdown",
   "id": "43577f37-49d1-4d5b-ab5a-3da02f81b9d1",
   "metadata": {},
   "source": [
    "## Definición de etiquetas\n",
    "\n",
    "Este dataset en particular contiene las siguientes definidas en `etiquetas_dataset`. Este array lo usaremos más adelante para determinar si nuestro modelo pudo determinar de manera correcta la predicción."
   ]
  },
  {
   "cell_type": "code",
   "execution_count": 3,
   "id": "ee9ae8f5-e04a-4173-a34a-fc9a007ab1bc",
   "metadata": {},
   "outputs": [],
   "source": [
    "etiquetas_dataset = [\"airplane\", \"automobile\", \"bird\", \"cat\", \"deer\", \"dog\", \"frog\", \"horse\", \"ship\", \"truck\"]"
   ]
  },
  {
   "cell_type": "markdown",
   "id": "a424e280-d882-4278-bbdb-2d7aef3d68d6",
   "metadata": {},
   "source": [
    "## Explorar una imagen de entrenamiento\n",
    "\n",
    "Exploramos y desplegamos una imagen al azar para entender el contenido de una fila."
   ]
  },
  {
   "cell_type": "code",
   "execution_count": 5,
   "id": "c91c0bab-77f4-4dc2-ae4c-bb67d6c5d393",
   "metadata": {},
   "outputs": [
    {
     "name": "stdout",
     "output_type": "stream",
     "text": [
      "[[[255 255 255]\n",
      "  [255 255 255]\n",
      "  [255 255 255]\n",
      "  ...\n",
      "  [255 255 255]\n",
      "  [255 255 255]\n",
      "  [255 255 255]]\n",
      "\n",
      " [[255 255 255]\n",
      "  [253 253 253]\n",
      "  [253 253 253]\n",
      "  ...\n",
      "  [253 253 253]\n",
      "  [253 253 253]\n",
      "  [255 255 255]]\n",
      "\n",
      " [[255 255 255]\n",
      "  [253 253 253]\n",
      "  [254 254 254]\n",
      "  ...\n",
      "  [254 254 254]\n",
      "  [253 253 253]\n",
      "  [255 255 255]]\n",
      "\n",
      " ...\n",
      "\n",
      " [[255 255 255]\n",
      "  [253 253 253]\n",
      "  [254 254 254]\n",
      "  ...\n",
      "  [254 254 255]\n",
      "  [253 253 254]\n",
      "  [255 255 255]]\n",
      "\n",
      " [[255 255 255]\n",
      "  [253 253 253]\n",
      "  [254 254 254]\n",
      "  ...\n",
      "  [254 254 254]\n",
      "  [253 253 254]\n",
      "  [255 255 255]]\n",
      "\n",
      " [[255 255 255]\n",
      "  [253 253 253]\n",
      "  [254 254 254]\n",
      "  ...\n",
      "  [254 254 254]\n",
      "  [253 253 253]\n",
      "  [255 255 255]]]\n"
     ]
    },
    {
     "data": {
      "image/png": "[encoded data removed]",
      "text/plain": [
       "<Figure size 432x288 with 1 Axes>"
      ]
     },
     "metadata": {
      "needs_background": "light"
     },
     "output_type": "display_data"
    }
   ],
   "source": [
    "import matplotlib.pyplot as plt\n",
    "\n",
    "ejemplo_index = 203\n",
    "x_train[ejemplo_index]\n",
    "\n",
    "print(x_train[ejemplo_index])\n",
    "img = plt.imshow(x_train[ejemplo_index])"
   ]
  },
  {
   "cell_type": "markdown",
   "id": "4d13e9fa-da01-4f83-b2a4-1a50f3f22c61",
   "metadata": {},
   "source": [
    "## Explorar una etiqueta de entrenamiento\n",
    "\n",
    "Es importante tomar en cuenta que las etiquetas están representadas por números. Por lo tanto, siempre tendremos que tomar en cuenta el array definido en `etiquetas_dataset` para identificar la etiqueta respectiva. Esto aplicando tanto para el entrenamiento, la prueba, como la predicción."
   ]
  },
  {
   "cell_type": "code",
   "execution_count": 6,
   "id": "3d5faafb-4516-4889-827c-4eebd72bf3af",
   "metadata": {},
   "outputs": [
    {
     "name": "stdout",
     "output_type": "stream",
     "text": [
      "Valor 'Y':  [3]\n",
      "Palabra 'Y':  cat\n"
     ]
    }
   ],
   "source": [
    "print(\"Valor 'Y': \", y_train[ejemplo_index])\n",
    "print(\"Palabra 'Y': \", etiquetas_dataset[y_train[ejemplo_index][0]])"
   ]
  },
  {
   "cell_type": "markdown",
   "id": "ae04038d-e10e-4b43-9983-25039c34c591",
   "metadata": {},
   "source": [
    "## Covertir las etiquetas en números\n",
    "\n",
    "Para realizar el entrenamiento, el modelo en **y** necesita que cada fila sea un array de 10 elementos (la cantidad de etiquetas). Por lo tanto, ocupamos convetir esas etiquetas a números únicos para cada etiqueta."
   ]
  },
  {
   "cell_type": "code",
   "execution_count": 7,
   "id": "ef3d1039-31ec-437e-a401-a54ecd30d215",
   "metadata": {},
   "outputs": [
    {
     "name": "stdout",
     "output_type": "stream",
     "text": [
      "'Y' valor ententero:  [0. 0. 0. 1. 0. 0. 0. 0. 0. 0.]\n"
     ]
    }
   ],
   "source": [
    "from keras.utils import to_categorical\n",
    "\n",
    "y_train_numeros = to_categorical(y_train)\n",
    "y_test_numeros = to_categorical(y_test)\n",
    "\n",
    "print(\"'Y' valor ententero: \", y_train_numeros[ejemplo_index])"
   ]
  },
  {
   "cell_type": "markdown",
   "id": "e3694eb2-b3be-473d-81bb-30103434aa28",
   "metadata": {},
   "source": [
    "## Normalizar las imágenes\n",
    "\n",
    "La otra preparación que necesitamos hacer es normalizar las imágenes *x*. Por lo que los pixels tendrán valores entre 0 y 1."
   ]
  },
  {
   "cell_type": "code",
   "execution_count": 8,
   "id": "d3919625-3b11-4b6b-8240-2b7640f3bd77",
   "metadata": {
    "tags": []
   },
   "outputs": [
    {
     "data": {
      "text/plain": [
       "array([[[1.        , 1.        , 1.        ],\n",
       "        [1.        , 1.        , 1.        ],\n",
       "        [1.        , 1.        , 1.        ],\n",
       "        ...,\n",
       "        [1.        , 1.        , 1.        ],\n",
       "        [1.        , 1.        , 1.        ],\n",
       "        [1.        , 1.        , 1.        ]],\n",
       "\n",
       "       [[1.        , 1.        , 1.        ],\n",
       "        [0.99215686, 0.99215686, 0.99215686],\n",
       "        [0.99215686, 0.99215686, 0.99215686],\n",
       "        ...,\n",
       "        [0.99215686, 0.99215686, 0.99215686],\n",
       "        [0.99215686, 0.99215686, 0.99215686],\n",
       "        [1.        , 1.        , 1.        ]],\n",
       "\n",
       "       [[1.        , 1.        , 1.        ],\n",
       "        [0.99215686, 0.99215686, 0.99215686],\n",
       "        [0.99607843, 0.99607843, 0.99607843],\n",
       "        ...,\n",
       "        [0.99607843, 0.99607843, 0.99607843],\n",
       "        [0.99215686, 0.99215686, 0.99215686],\n",
       "        [1.        , 1.        , 1.        ]],\n",
       "\n",
       "       ...,\n",
       "\n",
       "       [[1.        , 1.        , 1.        ],\n",
       "        [0.99215686, 0.99215686, 0.99215686],\n",
       "        [0.99607843, 0.99607843, 0.99607843],\n",
       "        ...,\n",
       "        [0.99607843, 0.99607843, 1.        ],\n",
       "        [0.99215686, 0.99215686, 0.99607843],\n",
       "        [1.        , 1.        , 1.        ]],\n",
       "\n",
       "       [[1.        , 1.        , 1.        ],\n",
       "        [0.99215686, 0.99215686, 0.99215686],\n",
       "        [0.99607843, 0.99607843, 0.99607843],\n",
       "        ...,\n",
       "        [0.99607843, 0.99607843, 0.99607843],\n",
       "        [0.99215686, 0.99215686, 0.99607843],\n",
       "        [1.        , 1.        , 1.        ]],\n",
       "\n",
       "       [[1.        , 1.        , 1.        ],\n",
       "        [0.99215686, 0.99215686, 0.99215686],\n",
       "        [0.99607843, 0.99607843, 0.99607843],\n",
       "        ...,\n",
       "        [0.99607843, 0.99607843, 0.99607843],\n",
       "        [0.99215686, 0.99215686, 0.99215686],\n",
       "        [1.        , 1.        , 1.        ]]])"
      ]
     },
     "execution_count": 8,
     "metadata": {},
     "output_type": "execute_result"
    }
   ],
   "source": [
    "x_train = x_train / 255\n",
    "x_test = x_test / 255\n",
    "x_train[ejemplo_index]"
   ]
  },
  {
   "cell_type": "markdown",
   "id": "7bd67884-dd4a-4144-8828-36f5a2d3a76d",
   "metadata": {},
   "source": [
    "## Arquitectura para el modelo (FALTA)\n",
    "\n",
    "Definimos una arquitectura para el modelo."
   ]
  },
  {
   "cell_type": "code",
   "execution_count": 9,
   "id": "969f8799-daa7-46ae-ae03-32f9a807447e",
   "metadata": {},
   "outputs": [],
   "source": [
    "from keras.models import Sequential\n",
    "from keras.layers import Dense, Flatten, Conv2D, MaxPooling2D, Dropout\n",
    "\n",
    "def construir_modelo():\n",
    "    modelo = Sequential()\n",
    "    \n",
    "    # Primera capa\n",
    "    modelo.add(Conv2D(32, (5, 5), activation=\"relu\", input_shape=(32, 32, 3)))\n",
    "\n",
    "    # Capa pooling\n",
    "    modelo.add(MaxPooling2D(pool_size=(2, 2)))\n",
    "\n",
    "    # Capa convolution\n",
    "    modelo.add(Conv2D(32, (5, 5), activation=\"relu\"))\n",
    "\n",
    "    # Capa pooling\n",
    "    modelo.add(MaxPooling2D(pool_size=(2, 2)))\n",
    "\n",
    "    # Capa Flattening\n",
    "    modelo.add(Flatten())\n",
    "\n",
    "    # Neuronas:\n",
    "    # 1000 neuronas\n",
    "    modelo.add(Dense(1000, activation=\"relu\"))\n",
    "\n",
    "    # Dropout al 50%\n",
    "    modelo.add(Dropout(0.5))\n",
    "\n",
    "    # 500 neuronas\n",
    "    modelo.add(Dense(500, activation=\"relu\"))\n",
    "\n",
    "    # Dropout al 50%\n",
    "    modelo.add(Dropout(0.5))\n",
    "\n",
    "    # 250 neuronas\n",
    "    modelo.add(Dense(250, activation=\"relu\"))\n",
    "\n",
    "    # 10 neuronas\n",
    "    modelo.add(Dense(10, activation=\"softmax\"))\n",
    "    return modelo"
   ]
  },
  {
   "cell_type": "markdown",
   "id": "f39fbc62-fae7-4f12-aee0-3592d8a74350",
   "metadata": {},
   "source": [
    "## Compilar modelo\n",
    "\n",
    "Luego de definir la arquitectura, obtenemos el modelo y lo compilamos para empezar a entrenar y predecir."
   ]
  },
  {
   "cell_type": "code",
   "execution_count": 10,
   "id": "89934a3f-1ab0-4749-9db8-4ee3f3950fff",
   "metadata": {},
   "outputs": [],
   "source": [
    "modelo = construir_modelo()\n",
    "modelo.compile(loss=\"categorical_crossentropy\", optimizer=\"adam\", metrics=[\"accuracy\"])"
   ]
  },
  {
   "cell_type": "markdown",
   "id": "8d08f024-136b-4b88-abe9-083ba9f8b369",
   "metadata": {},
   "source": [
    "## Realizamos el entrenamiento (FALTA)\n",
    "\n",
    "Para realizar el entrenamiento, pasamos como parámetro las imágenes de entrenamiento `x_train`, las etiquetas de entrenamiento en números `y_train_enteros`, y una configuración predeterminada."
   ]
  },
  {
   "cell_type": "code",
   "execution_count": 12,
   "id": "84f67154-60dc-4993-b7a9-d6440c320704",
   "metadata": {},
   "outputs": [
    {
     "name": "stdout",
     "output_type": "stream",
     "text": [
      "Epoch 1/15\n",
      "157/157 [==============================] - 13s 83ms/step - loss: 1.8086 - accuracy: 0.3248 - val_loss: 1.5793 - val_accuracy: 0.4287\n",
      "Epoch 2/15\n",
      "157/157 [==============================] - 13s 81ms/step - loss: 1.4641 - accuracy: 0.4619 - val_loss: 1.3050 - val_accuracy: 0.5306\n",
      "Epoch 3/15\n",
      "157/157 [==============================] - 13s 80ms/step - loss: 1.3103 - accuracy: 0.5253 - val_loss: 1.3225 - val_accuracy: 0.5280\n",
      "Epoch 4/15\n",
      "157/157 [==============================] - 13s 81ms/step - loss: 1.2173 - accuracy: 0.5638 - val_loss: 1.1452 - val_accuracy: 0.5969\n",
      "Epoch 5/15\n",
      "157/157 [==============================] - 13s 81ms/step - loss: 1.1251 - accuracy: 0.5959 - val_loss: 1.0831 - val_accuracy: 0.6148\n",
      "Epoch 6/15\n",
      "157/157 [==============================] - 13s 81ms/step - loss: 1.0388 - accuracy: 0.6307 - val_loss: 1.0283 - val_accuracy: 0.6336\n",
      "Epoch 7/15\n",
      "157/157 [==============================] - 13s 81ms/step - loss: 0.9826 - accuracy: 0.6496 - val_loss: 1.0118 - val_accuracy: 0.6431\n",
      "Epoch 8/15\n",
      "157/157 [==============================] - 13s 80ms/step - loss: 0.9282 - accuracy: 0.6721 - val_loss: 0.9864 - val_accuracy: 0.6595\n",
      "Epoch 9/15\n",
      "157/157 [==============================] - 13s 81ms/step - loss: 0.8620 - accuracy: 0.6945 - val_loss: 0.9256 - val_accuracy: 0.6763\n",
      "Epoch 10/15\n",
      "157/157 [==============================] - 13s 82ms/step - loss: 0.8254 - accuracy: 0.7110 - val_loss: 0.9671 - val_accuracy: 0.6728\n",
      "Epoch 11/15\n",
      "157/157 [==============================] - 13s 83ms/step - loss: 0.7778 - accuracy: 0.7232 - val_loss: 0.9955 - val_accuracy: 0.6587\n",
      "Epoch 12/15\n",
      "157/157 [==============================] - 13s 83ms/step - loss: 0.7474 - accuracy: 0.7366 - val_loss: 0.9440 - val_accuracy: 0.6824\n",
      "Epoch 13/15\n",
      "157/157 [==============================] - 13s 83ms/step - loss: 0.7030 - accuracy: 0.7492 - val_loss: 0.9187 - val_accuracy: 0.6883\n",
      "Epoch 14/15\n",
      "157/157 [==============================] - 13s 81ms/step - loss: 0.6623 - accuracy: 0.7655 - val_loss: 0.9520 - val_accuracy: 0.6826\n",
      "Epoch 15/15\n",
      "157/157 [==============================] - 13s 82ms/step - loss: 0.6342 - accuracy: 0.7756 - val_loss: 0.9138 - val_accuracy: 0.6936\n"
     ]
    }
   ],
   "source": [
    "entrenamiento = modelo.fit(x_train, y_train_numeros, batch_size=256, epochs=15, validation_split=0.2)"
   ]
  },
  {
   "cell_type": "markdown",
   "id": "6d21cab1-b1d0-4d6f-8b76-d3cbbfaa93e1",
   "metadata": {},
   "source": [
    "## Evaluación del modelo\n",
    "\n",
    "Realizamos una evaluación del modelo llamando al método `evaluate`. Note que ocupamos pasar las imágenes de prueba `x_test` y las etiquetas de prueba `y_test_enteros`. En este caso en particular, la precisión ronda alrededor del 60%."
   ]
  },
  {
   "cell_type": "code",
   "execution_count": 13,
   "id": "68e24d52-e2d8-4e77-8d14-9e51f7bc2c1f",
   "metadata": {},
   "outputs": [
    {
     "name": "stdout",
     "output_type": "stream",
     "text": [
      "313/313 [==============================] - 1s 4ms/step - loss: 0.9242 - accuracy: 0.6864\n"
     ]
    },
    {
     "data": {
      "text/plain": [
       "<matplotlib.legend.Legend at 0x26c06703b20>"
      ]
     },
     "execution_count": 13,
     "metadata": {},
     "output_type": "execute_result"
    },
    {
     "data": {
      "image/png": "[encoded data removed]",
      "text/plain": [
       "<Figure size 432x288 with 1 Axes>"
      ]
     },
     "metadata": {
      "needs_background": "light"
     },
     "output_type": "display_data"
    }
   ],
   "source": [
    "modelo.evaluate(x_test, y_test_numeros)[1]\n",
    "\n",
    "plt.plot(entrenamiento.history[\"accuracy\"])\n",
    "plt.plot(entrenamiento.history[\"val_accuracy\"])\n",
    "plt.title(\"Precision del modelo\")\n",
    "plt.ylabel(\"Precision\")\n",
    "plt.xlabel(\"Pasadas del entrenamiento\")\n",
    "plt.legend([\"Train\", \"Val\"], loc=\"right\")"
   ]
  },
  {
   "cell_type": "markdown",
   "id": "8f5c9012-9c7f-419e-841f-56fde1430f93",
   "metadata": {},
   "source": [
    "## Ejemplo real"
   ]
  },
  {
   "cell_type": "markdown",
   "id": "f64a2e8f-4985-4406-8faf-f7e5de99190d",
   "metadata": {},
   "source": [
    "### Predicción\n",
    "\n",
    "Para realizar una predicción con una imagen real, necesitamos primeramente cargar la imagen y transformarla obligatoriamente a 32x32. Recuerde que definimos esas dimensiones a la hora de crear y entrenar el modelo. Luego, usamos el método `modelo.predict(np.array([imagen_pequenna]))`. `predict` recibe un array de numpy con la imagen transformada previamente. La predicción retorna un array con un solo elemento también de tipo array, por lo que por comodidad devolvemos el array interno. Dicho \"array interno\" tiene 10 elementos. Cada elemento representa el nivel de confianza de la predicción para cada etiqueta respectivamente en `etiquetas_dataset`."
   ]
  },
  {
   "cell_type": "code",
   "execution_count": 15,
   "id": "e1e771e3-413e-4ca5-9c64-8a3259608cb1",
   "metadata": {},
   "outputs": [
    {
     "name": "stdout",
     "output_type": "stream",
     "text": [
      "1/1 [==============================] - 0s 11ms/step\n",
      "[3.0011304e-06 2.2666775e-06 2.7345691e-03 2.1462059e-01 1.6561075e-03\n",
      " 7.6265490e-01 1.7577399e-02 7.4139313e-04 3.4605050e-06 6.3500852e-06]\n"
     ]
    }
   ],
   "source": [
    "from skimage.transform import resize\n",
    "import numpy as np\n",
    "\n",
    "def obtener_prediccion(imagen):\n",
    "    # Cargar imagen y transformarla a 32x32\n",
    "    nueva_imagen = plt.imread(imagen)\n",
    "    imagen_pequenna = resize(nueva_imagen, (32,32,3))\n",
    "\n",
    "    # Realizar prediccion\n",
    "    prediccion_array = modelo.predict(np.array([imagen_pequenna]))\n",
    "    return prediccion_array[0]\n",
    "\n",
    "prediccion_perrito = obtener_prediccion(\"perrito.jpg\")\n",
    "print(prediccion_perrito)"
   ]
  },
  {
   "cell_type": "markdown",
   "id": "531c19b4-c5dd-4f99-b90f-560aaf00e94d",
   "metadata": {},
   "source": [
    "### Desplegar resultados de la predicción\n",
    "\n",
    "Se define un array `etiquetas_predicciones` de 0 a 9 que representan las etiquetas definidas previamente. Luego, de mayor a menor y tomando en cuenta `prediccion_array`, se ordena `etiquetas_predicciones`. Con este procedimiento podemos obtener las etiquetas con mejor precisión."
   ]
  },
  {
   "cell_type": "code",
   "execution_count": 16,
   "id": "37b36207-d478-4a99-9504-6a26d972352d",
   "metadata": {},
   "outputs": [
    {
     "name": "stdout",
     "output_type": "stream",
     "text": [
      "[5, 3, 6, 2, 4, 7, 9, 8, 0, 1]\n",
      "dog\n",
      "cat\n",
      "frog\n",
      "bird\n",
      "deer\n"
     ]
    }
   ],
   "source": [
    "def imprimir_5_mejores_predicciones(prediccion):\n",
    "    etiquetas_predicciones = [0,1,2,3,4,5,6,7,8,9]\n",
    "\n",
    "    # Ordenar el array manualmente de acuerdo a prediccion_array de mayor a menos\n",
    "    for i in range(10):\n",
    "        for j in range(10):\n",
    "            if prediccion[etiquetas_predicciones[i]] > prediccion[etiquetas_predicciones[j]]:\n",
    "                temp = etiquetas_predicciones[i]\n",
    "                etiquetas_predicciones[i] = etiquetas_predicciones[j]\n",
    "                etiquetas_predicciones[j] = temp\n",
    "\n",
    "    print(etiquetas_predicciones)\n",
    "    for i in range(5):\n",
    "        print(etiquetas_dataset[etiquetas_predicciones[i]])\n",
    "        \n",
    "imprimir_5_mejores_predicciones(prediccion_perrito)"
   ]
  },
  {
   "cell_type": "code",
   "execution_count": null,
   "id": "fb3f9a36-d053-497f-981c-199d0943a8ed",
   "metadata": {},
   "outputs": [],
   "source": []
  }
 ],
 "metadata": {
  "kernelspec": {
   "display_name": "Python 3 (ipykernel)",
   "language": "python",
   "name": "python3"
  },
  "language_info": {
   "codemirror_mode": {
    "name": "ipython",
    "version": 3
   },
   "file_extension": ".py",
   "mimetype": "text/x-python",
   "name": "python",
   "nbconvert_exporter": "python",
   "pygments_lexer": "ipython3",
   "version": "3.9.7"
  }
 },
 "nbformat": 4,
 "nbformat_minor": 5
}
