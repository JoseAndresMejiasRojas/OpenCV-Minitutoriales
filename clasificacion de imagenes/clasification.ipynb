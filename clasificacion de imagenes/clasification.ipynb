{
 "cells": [
  {
   "cell_type": "markdown",
   "id": "e2e59ccc-614d-4c7d-bd29-2e6990347757",
   "metadata": {},
   "source": [
    "## Importar paquetes"
   ]
  },
  {
   "cell_type": "code",
   "execution_count": 15,
   "id": "4f9c8e98-8018-4bb3-995f-fa175864776f",
   "metadata": {},
   "outputs": [],
   "source": [
    "# from tensorflow import keras\n",
    "# from tensorflow.keras import layers"
   ]
  },
  {
   "cell_type": "markdown",
   "id": "1f9b2234-ef81-423a-93bb-e157ada7b172",
   "metadata": {},
   "source": [
    "## Cargar datos y explorar datos\n",
    "\n",
    "Primeramente cargamos los datos desde un dataset real que provee keras. Este dataset contiene imágenes (**x**) con sus respectivas etiquetas (**y**). Note que los 4 resultados (`x_train`, `y_train`, `x_test`,`y_test`) son de tipo ndarray, que es de numpy. "
   ]
  },
  {
   "cell_type": "code",
   "execution_count": 2,
   "id": "d4cc2d10-043a-4699-a670-96cd13a59b95",
   "metadata": {},
   "outputs": [
    {
     "name": "stdout",
     "output_type": "stream",
     "text": [
      "<class 'numpy.ndarray'> <class 'numpy.ndarray'> <class 'numpy.ndarray'> <class 'numpy.ndarray'>\n"
     ]
    }
   ],
   "source": [
    "from keras.datasets import cifar10\n",
    "(x_train, y_train), (x_test, y_test) = cifar10.load_data()\n",
    "\n",
    "print(type(x_train), type(y_train), type(x_test), type(y_test))"
   ]
  },
  {
   "cell_type": "code",
   "execution_count": 3,
   "id": "b8543f7c-2778-4d8b-8820-1917c8bb36f2",
   "metadata": {},
   "outputs": [
    {
     "name": "stdout",
     "output_type": "stream",
     "text": [
      "x_train shape:  (50000, 32, 32, 3)\n",
      "y_train shape:  (50000, 1)\n",
      "x_test shape:  (10000, 32, 32, 3)\n",
      "y_test shape:  (10000, 1)\n"
     ]
    }
   ],
   "source": [
    "print(\"x_train shape: \", x_train.shape)\n",
    "print(\"y_train shape: \", y_train.shape)\n",
    "print(\"x_test shape: \", x_test.shape)\n",
    "print(\"y_test shape: \", y_test.shape)"
   ]
  },
  {
   "cell_type": "markdown",
   "id": "a424e280-d882-4278-bbdb-2d7aef3d68d6",
   "metadata": {},
   "source": [
    "## Explorar un elemento\n",
    "\n",
    "Exploramos y desplegamos un elemento al azar para entender "
   ]
  },
  {
   "cell_type": "code",
   "execution_count": 4,
   "id": "c91c0bab-77f4-4dc2-ae4c-bb67d6c5d393",
   "metadata": {},
   "outputs": [
    {
     "data": {
      "text/plain": [
       "array([[[255, 255, 255],\n",
       "        [255, 255, 255],\n",
       "        [255, 255, 255],\n",
       "        ...,\n",
       "        [255, 255, 255],\n",
       "        [255, 255, 255],\n",
       "        [255, 255, 255]],\n",
       "\n",
       "       [[255, 255, 255],\n",
       "        [253, 253, 253],\n",
       "        [253, 253, 253],\n",
       "        ...,\n",
       "        [253, 253, 253],\n",
       "        [253, 253, 253],\n",
       "        [255, 255, 255]],\n",
       "\n",
       "       [[255, 255, 255],\n",
       "        [253, 253, 253],\n",
       "        [254, 254, 254],\n",
       "        ...,\n",
       "        [254, 254, 254],\n",
       "        [253, 253, 253],\n",
       "        [255, 255, 255]],\n",
       "\n",
       "       ...,\n",
       "\n",
       "       [[255, 255, 255],\n",
       "        [253, 253, 253],\n",
       "        [254, 254, 254],\n",
       "        ...,\n",
       "        [254, 254, 255],\n",
       "        [253, 253, 254],\n",
       "        [255, 255, 255]],\n",
       "\n",
       "       [[255, 255, 255],\n",
       "        [253, 253, 253],\n",
       "        [254, 254, 254],\n",
       "        ...,\n",
       "        [254, 254, 254],\n",
       "        [253, 253, 254],\n",
       "        [255, 255, 255]],\n",
       "\n",
       "       [[255, 255, 255],\n",
       "        [253, 253, 253],\n",
       "        [254, 254, 254],\n",
       "        ...,\n",
       "        [254, 254, 254],\n",
       "        [253, 253, 253],\n",
       "        [255, 255, 255]]], dtype=uint8)"
      ]
     },
     "execution_count": 4,
     "metadata": {},
     "output_type": "execute_result"
    }
   ],
   "source": [
    "ejemplo_index = 203\n",
    "x_train[ejemplo_index]"
   ]
  },
  {
   "cell_type": "code",
   "execution_count": 5,
   "id": "93737cc5-69f8-4212-a288-62ffd62fb608",
   "metadata": {},
   "outputs": [
    {
     "data": {
      "image/png": "[encoded data removed]",
      "text/plain": [
       "<Figure size 432x288 with 1 Axes>"
      ]
     },
     "metadata": {
      "needs_background": "light"
     },
     "output_type": "display_data"
    }
   ],
   "source": [
    "import matplotlib.pyplot as plt\n",
    "\n",
    "img = plt.imshow(x_train[ejemplo_index])"
   ]
  },
  {
   "cell_type": "code",
   "execution_count": 6,
   "id": "3d5faafb-4516-4889-827c-4eebd72bf3af",
   "metadata": {},
   "outputs": [
    {
     "name": "stdout",
     "output_type": "stream",
     "text": [
      "'Y' valor:  [3]\n",
      "'Y' palabra:  cat\n"
     ]
    }
   ],
   "source": [
    "etiquetas_dataset = [\"airplane\", \"automobile\", \"bird\", \"cat\", \"deer\", \"dog\", \"frog\", \"horse\", \"ship\", \"truck\"]\n",
    "print(\"'Y' valor: \", y_train[ejemplo_index])\n",
    "print(\"'Y' palabra: \", etiquetas_dataset[y_train[ejemplo_index][0]])"
   ]
  },
  {
   "cell_type": "markdown",
   "id": "ae04038d-e10e-4b43-9983-25039c34c591",
   "metadata": {},
   "source": [
    "## Covertir las etiquetas en números\n",
    "\n",
    "Para realizar el entrenamiento, necesitos valores números únicamente. Sin embargo, como pudimos ver, las etiquetas están en strings. Por lo tanto, ocupamos convetir esas etiquetas a números únicos para cada etiqueta."
   ]
  },
  {
   "cell_type": "code",
   "execution_count": 7,
   "id": "ef3d1039-31ec-437e-a401-a54ecd30d215",
   "metadata": {},
   "outputs": [
    {
     "name": "stdout",
     "output_type": "stream",
     "text": [
      "'Y' valor ententero:  [0. 0. 0. 1. 0. 0. 0. 0. 0. 0.]\n"
     ]
    }
   ],
   "source": [
    "from keras.utils import to_categorical\n",
    "\n",
    "y_train_enteros = to_categorical(y_train)\n",
    "y_test_enteros = to_categorical(y_test)\n",
    "\n",
    "print(\"'Y' valor ententero: \", y_train_enteros[ejemplo_index])"
   ]
  },
  {
   "cell_type": "markdown",
   "id": "e3694eb2-b3be-473d-81bb-30103434aa28",
   "metadata": {},
   "source": [
    "## Normalizar los pixels a valores entre 0 y 1\n",
    "\n",
    "La otra preparación que necesitamos hacer es normalizar los valores de las variables **x**."
   ]
  },
  {
   "cell_type": "code",
   "execution_count": 8,
   "id": "d3919625-3b11-4b6b-8240-2b7640f3bd77",
   "metadata": {
    "tags": []
   },
   "outputs": [
    {
     "data": {
      "text/plain": [
       "array([[[1.        , 1.        , 1.        ],\n",
       "        [1.        , 1.        , 1.        ],\n",
       "        [1.        , 1.        , 1.        ],\n",
       "        ...,\n",
       "        [1.        , 1.        , 1.        ],\n",
       "        [1.        , 1.        , 1.        ],\n",
       "        [1.        , 1.        , 1.        ]],\n",
       "\n",
       "       [[1.        , 1.        , 1.        ],\n",
       "        [0.99215686, 0.99215686, 0.99215686],\n",
       "        [0.99215686, 0.99215686, 0.99215686],\n",
       "        ...,\n",
       "        [0.99215686, 0.99215686, 0.99215686],\n",
       "        [0.99215686, 0.99215686, 0.99215686],\n",
       "        [1.        , 1.        , 1.        ]],\n",
       "\n",
       "       [[1.        , 1.        , 1.        ],\n",
       "        [0.99215686, 0.99215686, 0.99215686],\n",
       "        [0.99607843, 0.99607843, 0.99607843],\n",
       "        ...,\n",
       "        [0.99607843, 0.99607843, 0.99607843],\n",
       "        [0.99215686, 0.99215686, 0.99215686],\n",
       "        [1.        , 1.        , 1.        ]],\n",
       "\n",
       "       ...,\n",
       "\n",
       "       [[1.        , 1.        , 1.        ],\n",
       "        [0.99215686, 0.99215686, 0.99215686],\n",
       "        [0.99607843, 0.99607843, 0.99607843],\n",
       "        ...,\n",
       "        [0.99607843, 0.99607843, 1.        ],\n",
       "        [0.99215686, 0.99215686, 0.99607843],\n",
       "        [1.        , 1.        , 1.        ]],\n",
       "\n",
       "       [[1.        , 1.        , 1.        ],\n",
       "        [0.99215686, 0.99215686, 0.99215686],\n",
       "        [0.99607843, 0.99607843, 0.99607843],\n",
       "        ...,\n",
       "        [0.99607843, 0.99607843, 0.99607843],\n",
       "        [0.99215686, 0.99215686, 0.99607843],\n",
       "        [1.        , 1.        , 1.        ]],\n",
       "\n",
       "       [[1.        , 1.        , 1.        ],\n",
       "        [0.99215686, 0.99215686, 0.99215686],\n",
       "        [0.99607843, 0.99607843, 0.99607843],\n",
       "        ...,\n",
       "        [0.99607843, 0.99607843, 0.99607843],\n",
       "        [0.99215686, 0.99215686, 0.99215686],\n",
       "        [1.        , 1.        , 1.        ]]])"
      ]
     },
     "execution_count": 8,
     "metadata": {},
     "output_type": "execute_result"
    }
   ],
   "source": [
    "x_train = x_train / 255\n",
    "x_test = x_test / 255\n",
    "x_train[ejemplo_index]"
   ]
  },
  {
   "cell_type": "markdown",
   "id": "7bd67884-dd4a-4144-8828-36f5a2d3a76d",
   "metadata": {},
   "source": [
    "## Arquitectura para el modelo\n",
    "\n",
    "Definimos una arquitectura para el modelo."
   ]
  },
  {
   "cell_type": "code",
   "execution_count": 9,
   "id": "969f8799-daa7-46ae-ae03-32f9a807447e",
   "metadata": {},
   "outputs": [],
   "source": [
    "from keras.models import Sequential\n",
    "from keras.layers import Dense, Flatten, Conv2D, MaxPooling2D, Dropout\n",
    "\n",
    "def construir_modelo():\n",
    "    modelo = Sequential()\n",
    "    \n",
    "    # Primera capa\n",
    "    modelo.add(Conv2D(32, (5, 5), activation=\"relu\", input_shape=(32, 32, 3)))\n",
    "\n",
    "    # Capa pooling\n",
    "    modelo.add(MaxPooling2D(pool_size=(2, 2)))\n",
    "\n",
    "    # Capa convolution\n",
    "    modelo.add(Conv2D(32, (5, 5), activation=\"relu\"))\n",
    "\n",
    "    # Capa pooling\n",
    "    modelo.add(MaxPooling2D(pool_size=(2, 2)))\n",
    "\n",
    "    # Capa Flattening\n",
    "    modelo.add(Flatten())\n",
    "\n",
    "    # Neuronas:\n",
    "    # 1000 neuronas\n",
    "    modelo.add(Dense(1000, activation=\"relu\"))\n",
    "\n",
    "    # Dropout al 50%\n",
    "    modelo.add(Dropout(0.5))\n",
    "\n",
    "    # 500 neuronas\n",
    "    modelo.add(Dense(500, activation=\"relu\"))\n",
    "\n",
    "    # Dropout al 50%\n",
    "    modelo.add(Dropout(0.5))\n",
    "\n",
    "    # 250 neuronas\n",
    "    modelo.add(Dense(250, activation=\"relu\"))\n",
    "\n",
    "    # 10 neuronas\n",
    "    modelo.add(Dense(10, activation=\"softmax\"))\n",
    "    return modelo"
   ]
  },
  {
   "cell_type": "markdown",
   "id": "f39fbc62-fae7-4f12-aee0-3592d8a74350",
   "metadata": {},
   "source": [
    "## Compilar modelo\n",
    "\n",
    "Luego de definir la arquitectura, obtenemos el modelo y lo compilamos para empezar a entrenar y luego predecir."
   ]
  },
  {
   "cell_type": "code",
   "execution_count": 10,
   "id": "89934a3f-1ab0-4749-9db8-4ee3f3950fff",
   "metadata": {},
   "outputs": [],
   "source": [
    "modelo = construir_modelo()\n",
    "modelo.compile(loss=\"categorical_crossentropy\", optimizer=\"adam\", metrics=[\"accuracy\"])"
   ]
  },
  {
   "cell_type": "markdown",
   "id": "8d08f024-136b-4b88-abe9-083ba9f8b369",
   "metadata": {},
   "source": [
    "## Realizamos el entrenamiento\n",
    "\n",
    "Para realizar el entrenamiento, necesitamos pasarle las imágenes de entrenamiento `x_train`, las etiquetas de entrenamiento en números `y_train_enteros`, y una configuración predeterminada."
   ]
  },
  {
   "cell_type": "code",
   "execution_count": 11,
   "id": "84f67154-60dc-4993-b7a9-d6440c320704",
   "metadata": {},
   "outputs": [
    {
     "name": "stdout",
     "output_type": "stream",
     "text": [
      "Epoch 1/10\n",
      "157/157 [==============================] - 14s 87ms/step - loss: 1.7859 - accuracy: 0.3280 - val_loss: 1.4721 - val_accuracy: 0.4594\n",
      "Epoch 2/10\n",
      "157/157 [==============================] - 13s 84ms/step - loss: 1.4193 - accuracy: 0.4816 - val_loss: 1.3398 - val_accuracy: 0.5192\n",
      "Epoch 3/10\n",
      "157/157 [==============================] - 13s 84ms/step - loss: 1.2677 - accuracy: 0.5453 - val_loss: 1.2085 - val_accuracy: 0.5714\n",
      "Epoch 4/10\n",
      "157/157 [==============================] - 13s 85ms/step - loss: 1.1663 - accuracy: 0.5833 - val_loss: 1.1132 - val_accuracy: 0.6029\n",
      "Epoch 5/10\n",
      "157/157 [==============================] - 13s 83ms/step - loss: 1.0709 - accuracy: 0.6204 - val_loss: 1.0381 - val_accuracy: 0.6307\n",
      "Epoch 6/10\n",
      "157/157 [==============================] - 13s 80ms/step - loss: 0.9988 - accuracy: 0.6456 - val_loss: 1.0108 - val_accuracy: 0.6416\n",
      "Epoch 7/10\n",
      "157/157 [==============================] - 13s 80ms/step - loss: 0.9450 - accuracy: 0.6654 - val_loss: 0.9933 - val_accuracy: 0.6486\n",
      "Epoch 8/10\n",
      "157/157 [==============================] - 13s 80ms/step - loss: 0.8652 - accuracy: 0.6948 - val_loss: 0.9924 - val_accuracy: 0.6539\n",
      "Epoch 9/10\n",
      "157/157 [==============================] - 13s 80ms/step - loss: 0.8267 - accuracy: 0.7093 - val_loss: 0.9206 - val_accuracy: 0.6838\n",
      "Epoch 10/10\n",
      "157/157 [==============================] - 13s 80ms/step - loss: 0.7653 - accuracy: 0.7303 - val_loss: 0.9320 - val_accuracy: 0.6822\n"
     ]
    }
   ],
   "source": [
    "entrenamiento = modelo.fit(x_train, y_train_enteros, batch_size=256, epochs=10, validation_split=0.2)"
   ]
  },
  {
   "cell_type": "markdown",
   "id": "6d21cab1-b1d0-4d6f-8b76-d3cbbfaa93e1",
   "metadata": {},
   "source": [
    "## Evaluación del modelo\n",
    "\n",
    "Realizamos una evaluación del modelo llamando al método `evaluate`. Note que, ocupamos pasar las imágenes de prueba `x_test` y las etiquetas de prueba `y_test_enteros`. En este caso en particular, la precisión ronda alrededor del 60%."
   ]
  },
  {
   "cell_type": "code",
   "execution_count": 12,
   "id": "68e24d52-e2d8-4e77-8d14-9e51f7bc2c1f",
   "metadata": {},
   "outputs": [
    {
     "name": "stdout",
     "output_type": "stream",
     "text": [
      "313/313 [==============================] - 1s 4ms/step - loss: 0.9444 - accuracy: 0.6777\n"
     ]
    },
    {
     "data": {
      "text/plain": [
       "0.6776999831199646"
      ]
     },
     "execution_count": 12,
     "metadata": {},
     "output_type": "execute_result"
    }
   ],
   "source": [
    "modelo.evaluate(x_test, y_test_enteros)[1]"
   ]
  },
  {
   "cell_type": "code",
   "execution_count": 13,
   "id": "27f7642f-1fde-4930-a868-a05b7e400379",
   "metadata": {},
   "outputs": [
    {
     "data": {
      "text/plain": [
       "<matplotlib.legend.Legend at 0x20c340d74c0>"
      ]
     },
     "execution_count": 13,
     "metadata": {},
     "output_type": "execute_result"
    },
    {
     "data": {
      "image/png": "[encoded data removed]",
      "text/plain": [
       "<Figure size 432x288 with 1 Axes>"
      ]
     },
     "metadata": {
      "needs_background": "light"
     },
     "output_type": "display_data"
    }
   ],
   "source": [
    "plt.plot(entrenamiento.history[\"accuracy\"])\n",
    "plt.plot(entrenamiento.history[\"val_accuracy\"])\n",
    "plt.title(\"Precision del modelo\")\n",
    "plt.ylabel(\"Precision\")\n",
    "plt.xlabel(\"Pasadas del entrenamiento\")\n",
    "plt.legend([\"Train\", \"Val\"], loc=\"right\")"
   ]
  },
  {
   "cell_type": "markdown",
   "id": "8f5c9012-9c7f-419e-841f-56fde1430f93",
   "metadata": {},
   "source": [
    "## Ejemplo real"
   ]
  },
  {
   "cell_type": "markdown",
   "id": "f64a2e8f-4985-4406-8faf-f7e5de99190d",
   "metadata": {},
   "source": [
    "### Predicción"
   ]
  },
  {
   "cell_type": "code",
   "execution_count": 16,
   "id": "e1e771e3-413e-4ca5-9c64-8a3259608cb1",
   "metadata": {},
   "outputs": [
    {
     "name": "stdout",
     "output_type": "stream",
     "text": [
      "1/1 [==============================] - 0s 63ms/step\n",
      "[5.8544060e-04 4.3189264e-04 1.9007558e-02 1.8529430e-01 1.6040569e-02\n",
      " 7.2683096e-01 2.0568458e-02 2.9538820e-02 2.7615039e-04 1.4259466e-03]\n"
     ]
    }
   ],
   "source": [
    "from skimage.transform import resize\n",
    "import numpy as np\n",
    "\n",
    "def obtener_prediccion(imagen):\n",
    "    # Cargar imagen y transformarla a 32x32\n",
    "    nueva_imagen = plt.imread(imagen)\n",
    "    imagen_pequenna = resize(nueva_imagen, (32,32,3))\n",
    "\n",
    "    # Realizar prediccion\n",
    "    prediccion_array = modelo.predict(np.array([imagen_pequenna]))\n",
    "    return prediccion_array[0]\n",
    "\n",
    "prediccion_perrito = obtener_prediccion(\"perrito.jpg\")\n",
    "print(prediccion_perrito)"
   ]
  },
  {
   "cell_type": "markdown",
   "id": "531c19b4-c5dd-4f99-b90f-560aaf00e94d",
   "metadata": {},
   "source": [
    "### Desplegar resultados de la predicción\n",
    "\n",
    "Se define un array `etiquetas_predicciones` de 0 a 9 que representan las etiquetas definidas previamente. Luego, de mayor a menor, tomando en cuenta `prediccion_array`, se ordena `etiquetas_predicciones`. Con este procedimiento, podemos obtener las etiquetas con mejor precisión."
   ]
  },
  {
   "cell_type": "code",
   "execution_count": 17,
   "id": "37b36207-d478-4a99-9504-6a26d972352d",
   "metadata": {},
   "outputs": [
    {
     "name": "stdout",
     "output_type": "stream",
     "text": [
      "[5, 3, 7, 6, 2, 4, 9, 0, 1, 8]\n",
      "dog\n",
      "cat\n",
      "horse\n",
      "frog\n",
      "bird\n"
     ]
    }
   ],
   "source": [
    "def imprimir_5_predicciones_mejores(prediccion):\n",
    "    etiquetas_predicciones = [0,1,2,3,4,5,6,7,8,9]\n",
    "\n",
    "    # Ordenar el array manualmente de acuerdo a prediccion_array de mayor a menos\n",
    "    for i in range(10):\n",
    "        for j in range(10):\n",
    "            if prediccion[etiquetas_predicciones[i]] > prediccion[etiquetas_predicciones[j]]:\n",
    "                temp = etiquetas_predicciones[i]\n",
    "                etiquetas_predicciones[i] = etiquetas_predicciones[j]\n",
    "                etiquetas_predicciones[j] = temp\n",
    "\n",
    "    print(etiquetas_predicciones)\n",
    "    for i in range(5):\n",
    "        print(etiquetas_dataset[etiquetas_predicciones[i]])\n",
    "        \n",
    "imprimir_5_predicciones_mejores(prediccion_perrito)"
   ]
  },
  {
   "cell_type": "code",
   "execution_count": null,
   "id": "b3ca4b9b-11c1-410b-9331-5a3c9191343c",
   "metadata": {},
   "outputs": [],
   "source": []
  },
  {
   "cell_type": "code",
   "execution_count": null,
   "id": "2dfa3f10-f9a3-4cae-ac31-9cc4417d0b14",
   "metadata": {},
   "outputs": [],
   "source": []
  }
 ],
 "metadata": {
  "kernelspec": {
   "display_name": "Python 3 (ipykernel)",
   "language": "python",
   "name": "python3"
  },
  "language_info": {
   "codemirror_mode": {
    "name": "ipython",
    "version": 3
   },
   "file_extension": ".py",
   "mimetype": "text/x-python",
   "name": "python",
   "nbconvert_exporter": "python",
   "pygments_lexer": "ipython3",
   "version": "3.9.7"
  }
 },
 "nbformat": 4,
 "nbformat_minor": 5
}
