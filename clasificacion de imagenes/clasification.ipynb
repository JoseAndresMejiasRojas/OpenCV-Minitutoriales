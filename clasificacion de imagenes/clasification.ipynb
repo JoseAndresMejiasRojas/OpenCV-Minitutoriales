{
 "cells": [
  {
   "cell_type": "markdown",
   "id": "e2e59ccc-614d-4c7d-bd29-2e6990347757",
   "metadata": {},
   "source": [
    "## Importar paquetes"
   ]
  },
  {
   "cell_type": "code",
   "execution_count": 1,
   "id": "4f9c8e98-8018-4bb3-995f-fa175864776f",
   "metadata": {},
   "outputs": [],
   "source": [
    "import cv2\n",
    "import tensorflow as tf\n",
    "from tensorflow import keras\n",
    "from keras.models import Sequential\n",
    "from keras.layers import Dense, Flatten, Conv2D, MaxPooling2D, Dropout\n",
    "from tensorflow.keras import layers\n",
    "from keras.utils import to_categorical\n",
    "import numpy as np\n",
    "import matplotlib.pyplot as plt"
   ]
  },
  {
   "cell_type": "markdown",
   "id": "1f9b2234-ef81-423a-93bb-e157ada7b172",
   "metadata": {},
   "source": [
    "## Cargar datos y explorar datos"
   ]
  },
  {
   "cell_type": "code",
   "execution_count": 2,
   "id": "d4cc2d10-043a-4699-a670-96cd13a59b95",
   "metadata": {},
   "outputs": [],
   "source": [
    "import ssl\n",
    "from keras.datasets import cifar10\n",
    "# https://stackoverflow.com/a/69692664/11026428\n",
    "ssl._create_default_https_context = ssl._create_unverified_context\n",
    "(x_train, y_train), (x_test, y_test) = cifar10.load_data()"
   ]
  },
  {
   "cell_type": "code",
   "execution_count": 3,
   "id": "a02488d7-14aa-4723-935d-ac840aa270cc",
   "metadata": {},
   "outputs": [
    {
     "name": "stdout",
     "output_type": "stream",
     "text": [
      "<class 'numpy.ndarray'>\n",
      "<class 'numpy.ndarray'>\n",
      "<class 'numpy.ndarray'>\n",
      "<class 'numpy.ndarray'>\n"
     ]
    }
   ],
   "source": [
    "print(type(x_train))\n",
    "print(type(y_train))\n",
    "print(type(x_test))\n",
    "print(type(y_test))"
   ]
  },
  {
   "cell_type": "code",
   "execution_count": 4,
   "id": "b8543f7c-2778-4d8b-8820-1917c8bb36f2",
   "metadata": {},
   "outputs": [
    {
     "name": "stdout",
     "output_type": "stream",
     "text": [
      "x_train shape:  (50000, 32, 32, 3)\n",
      "y_train shape:  (50000, 1)\n",
      "x_test shape:  (10000, 32, 32, 3)\n",
      "y_test shape:  (10000, 1)\n"
     ]
    }
   ],
   "source": [
    "print(\"x_train shape: \", x_train.shape)\n",
    "print(\"y_train shape: \", y_train.shape)\n",
    "print(\"x_test shape: \", x_test.shape)\n",
    "print(\"y_test shape: \", y_test.shape)"
   ]
  },
  {
   "cell_type": "code",
   "execution_count": 5,
   "id": "c91c0bab-77f4-4dc2-ae4c-bb67d6c5d393",
   "metadata": {},
   "outputs": [
    {
     "data": {
      "text/plain": [
       "array([[[105, 155, 204],\n",
       "        [ 99, 150, 206],\n",
       "        [111, 149, 195],\n",
       "        ...,\n",
       "        [113, 160,  87],\n",
       "        [150, 197, 134],\n",
       "        [164, 216, 142]],\n",
       "\n",
       "       [[113, 169, 210],\n",
       "        [ 85, 132, 183],\n",
       "        [ 70, 101, 131],\n",
       "        ...,\n",
       "        [ 72, 136,  58],\n",
       "        [107, 176, 102],\n",
       "        [140, 207, 136]],\n",
       "\n",
       "       [[106, 165, 209],\n",
       "        [ 90, 132, 189],\n",
       "        [ 47,  71, 108],\n",
       "        ...,\n",
       "        [ 75, 129,  89],\n",
       "        [117, 185, 111],\n",
       "        [120, 193, 111]],\n",
       "\n",
       "       ...,\n",
       "\n",
       "       [[ 55,  74, 127],\n",
       "        [ 32,  13,  34],\n",
       "        [ 36,  30,  21],\n",
       "        ...,\n",
       "        [ 12, 103,  76],\n",
       "        [ 44,  92, 116],\n",
       "        [103, 146, 186]],\n",
       "\n",
       "       [[ 49, 103,  75],\n",
       "        [ 50,  57,  21],\n",
       "        [ 57,  76,  25],\n",
       "        ...,\n",
       "        [ 42, 141,  87],\n",
       "        [ 86, 150, 154],\n",
       "        [117, 172, 202]],\n",
       "\n",
       "       [[ 60, 146,  50],\n",
       "        [ 93, 137,  45],\n",
       "        [ 95, 156,  63],\n",
       "        ...,\n",
       "        [ 97, 180, 151],\n",
       "        [ 92, 165, 173],\n",
       "        [ 84, 160, 196]]], dtype=uint8)"
      ]
     },
     "execution_count": 5,
     "metadata": {},
     "output_type": "execute_result"
    }
   ],
   "source": [
    "index = 200\n",
    "x_train[index]"
   ]
  },
  {
   "cell_type": "code",
   "execution_count": 6,
   "id": "93737cc5-69f8-4212-a288-62ffd62fb608",
   "metadata": {},
   "outputs": [
    {
     "data": {
      "image/png": "[encoded data removed]",
      "text/plain": [
       "<Figure size 432x288 with 1 Axes>"
      ]
     },
     "metadata": {
      "needs_background": "light"
     },
     "output_type": "display_data"
    }
   ],
   "source": [
    "img = plt.imshow(x_train[index])"
   ]
  },
  {
   "cell_type": "code",
   "execution_count": 7,
   "id": "3d5faafb-4516-4889-827c-4eebd72bf3af",
   "metadata": {},
   "outputs": [
    {
     "name": "stdout",
     "output_type": "stream",
     "text": [
      "Label value:  [6]\n",
      "Label word:  frog\n"
     ]
    }
   ],
   "source": [
    "classification_labels = [\"airplane\", \"automobile\", \"bird\", \"cat\", \"deer\", \"dog\", \"frog\", \"horse\", \"ship\", \"truck\"]\n",
    "print(\"Label value: \", y_train[index])\n",
    "print(\"Label word: \", classification_labels[y_train[index][0]])"
   ]
  },
  {
   "cell_type": "markdown",
   "id": "ae04038d-e10e-4b43-9983-25039c34c591",
   "metadata": {},
   "source": [
    "## Covertir las etiquetas en números"
   ]
  },
  {
   "cell_type": "code",
   "execution_count": 8,
   "id": "ef3d1039-31ec-437e-a401-a54ecd30d215",
   "metadata": {},
   "outputs": [
    {
     "name": "stdout",
     "output_type": "stream",
     "text": [
      "Label number:  [0. 0. 0. 0. 0. 0. 1. 0. 0. 0.]\n"
     ]
    }
   ],
   "source": [
    "y_train_numbers = to_categorical(y_train)\n",
    "y_test_numbers = to_categorical(y_test)\n",
    "\n",
    "print(\"Label number: \", y_train_numbers[index])"
   ]
  },
  {
   "cell_type": "markdown",
   "id": "e3694eb2-b3be-473d-81bb-30103434aa28",
   "metadata": {},
   "source": [
    "## Normalizar los pixels a valores entre 0 y 1"
   ]
  },
  {
   "cell_type": "code",
   "execution_count": 9,
   "id": "d3919625-3b11-4b6b-8240-2b7640f3bd77",
   "metadata": {
    "tags": []
   },
   "outputs": [
    {
     "data": {
      "text/plain": [
       "array([[[0.41176471, 0.60784314, 0.8       ],\n",
       "        [0.38823529, 0.58823529, 0.80784314],\n",
       "        [0.43529412, 0.58431373, 0.76470588],\n",
       "        ...,\n",
       "        [0.44313725, 0.62745098, 0.34117647],\n",
       "        [0.58823529, 0.77254902, 0.5254902 ],\n",
       "        [0.64313725, 0.84705882, 0.55686275]],\n",
       "\n",
       "       [[0.44313725, 0.6627451 , 0.82352941],\n",
       "        [0.33333333, 0.51764706, 0.71764706],\n",
       "        [0.2745098 , 0.39607843, 0.51372549],\n",
       "        ...,\n",
       "        [0.28235294, 0.53333333, 0.22745098],\n",
       "        [0.41960784, 0.69019608, 0.4       ],\n",
       "        [0.54901961, 0.81176471, 0.53333333]],\n",
       "\n",
       "       [[0.41568627, 0.64705882, 0.81960784],\n",
       "        [0.35294118, 0.51764706, 0.74117647],\n",
       "        [0.18431373, 0.27843137, 0.42352941],\n",
       "        ...,\n",
       "        [0.29411765, 0.50588235, 0.34901961],\n",
       "        [0.45882353, 0.7254902 , 0.43529412],\n",
       "        [0.47058824, 0.75686275, 0.43529412]],\n",
       "\n",
       "       ...,\n",
       "\n",
       "       [[0.21568627, 0.29019608, 0.49803922],\n",
       "        [0.1254902 , 0.05098039, 0.13333333],\n",
       "        [0.14117647, 0.11764706, 0.08235294],\n",
       "        ...,\n",
       "        [0.04705882, 0.40392157, 0.29803922],\n",
       "        [0.17254902, 0.36078431, 0.45490196],\n",
       "        [0.40392157, 0.57254902, 0.72941176]],\n",
       "\n",
       "       [[0.19215686, 0.40392157, 0.29411765],\n",
       "        [0.19607843, 0.22352941, 0.08235294],\n",
       "        [0.22352941, 0.29803922, 0.09803922],\n",
       "        ...,\n",
       "        [0.16470588, 0.55294118, 0.34117647],\n",
       "        [0.3372549 , 0.58823529, 0.60392157],\n",
       "        [0.45882353, 0.6745098 , 0.79215686]],\n",
       "\n",
       "       [[0.23529412, 0.57254902, 0.19607843],\n",
       "        [0.36470588, 0.5372549 , 0.17647059],\n",
       "        [0.37254902, 0.61176471, 0.24705882],\n",
       "        ...,\n",
       "        [0.38039216, 0.70588235, 0.59215686],\n",
       "        [0.36078431, 0.64705882, 0.67843137],\n",
       "        [0.32941176, 0.62745098, 0.76862745]]])"
      ]
     },
     "execution_count": 9,
     "metadata": {},
     "output_type": "execute_result"
    }
   ],
   "source": [
    "x_train = x_train / 255\n",
    "x_test = x_test / 255\n",
    "x_train[index]"
   ]
  },
  {
   "cell_type": "markdown",
   "id": "7bd67884-dd4a-4144-8828-36f5a2d3a76d",
   "metadata": {},
   "source": [
    "## Arquitectura para el modelo"
   ]
  },
  {
   "cell_type": "code",
   "execution_count": 12,
   "id": "969f8799-daa7-46ae-ae03-32f9a807447e",
   "metadata": {},
   "outputs": [],
   "source": [
    "model = Sequential()\n",
    "\n",
    "# First layer\n",
    "model.add(Conv2D(32, (5, 5), activation=\"relu\", input_shape=(32, 32, 3)))\n",
    "\n",
    "# Pooling layer\n",
    "model.add(MaxPooling2D(pool_size=(2, 2)))\n",
    "\n",
    "# Convolution layer\n",
    "model.add(Conv2D(32, (5, 5), activation=\"relu\"))\n",
    "\n",
    "# Pooling layer\n",
    "model.add(MaxPooling2D(pool_size=(2, 2)))\n",
    "\n",
    "# Flattening layer\n",
    "model.add(Flatten())\n",
    "\n",
    "# Neurons\n",
    "# 1000 neurons layer\n",
    "model.add(Dense(1000, activation=\"relu\"))\n",
    "\n",
    "# Dropout layer 50%\n",
    "model.add(Dropout(0.5))\n",
    "\n",
    "# 500 neurons layer\n",
    "model.add(Dense(500, activation=\"relu\"))\n",
    "\n",
    "# Dropout layer 50%\n",
    "model.add(Dropout(0.5))\n",
    "\n",
    "# 250 neurons layer\n",
    "model.add(Dense(250, activation=\"relu\"))\n",
    "\n",
    "# 10 neurons layer\n",
    "model.add(Dense(10, activation=\"softmax\"))\n"
   ]
  },
  {
   "cell_type": "code",
   "execution_count": 13,
   "id": "89934a3f-1ab0-4749-9db8-4ee3f3950fff",
   "metadata": {},
   "outputs": [],
   "source": [
    "model.compile(loss=\"categorical_crossentropy\", optimizer=\"adam\", metrics=[\"accuracy\"])"
   ]
  },
  {
   "cell_type": "code",
   "execution_count": 14,
   "id": "84f67154-60dc-4993-b7a9-d6440c320704",
   "metadata": {},
   "outputs": [
    {
     "name": "stdout",
     "output_type": "stream",
     "text": [
      "Epoch 1/10\n",
      "157/157 [==============================] - 14s 88ms/step - loss: 1.7893 - accuracy: 0.3271 - val_loss: 1.4938 - val_accuracy: 0.4497\n",
      "Epoch 2/10\n",
      "157/157 [==============================] - 13s 81ms/step - loss: 1.4125 - accuracy: 0.4821 - val_loss: 1.2724 - val_accuracy: 0.5474\n",
      "Epoch 3/10\n",
      "157/157 [==============================] - 13s 83ms/step - loss: 1.2443 - accuracy: 0.5528 - val_loss: 1.2145 - val_accuracy: 0.5717\n",
      "Epoch 4/10\n",
      "157/157 [==============================] - 13s 83ms/step - loss: 1.1425 - accuracy: 0.5921 - val_loss: 1.1175 - val_accuracy: 0.6003\n",
      "Epoch 5/10\n",
      "157/157 [==============================] - 13s 81ms/step - loss: 1.0386 - accuracy: 0.6302 - val_loss: 1.1188 - val_accuracy: 0.6063\n",
      "Epoch 6/10\n",
      "157/157 [==============================] - 13s 83ms/step - loss: 0.9614 - accuracy: 0.6609 - val_loss: 1.0144 - val_accuracy: 0.6465\n",
      "Epoch 7/10\n",
      "157/157 [==============================] - 13s 83ms/step - loss: 0.9050 - accuracy: 0.6806 - val_loss: 0.9648 - val_accuracy: 0.6656\n",
      "Epoch 8/10\n",
      "157/157 [==============================] - 13s 81ms/step - loss: 0.8409 - accuracy: 0.7041 - val_loss: 0.9242 - val_accuracy: 0.6767\n",
      "Epoch 9/10\n",
      "157/157 [==============================] - 12s 79ms/step - loss: 0.7804 - accuracy: 0.7249 - val_loss: 0.9170 - val_accuracy: 0.6852\n",
      "Epoch 10/10\n",
      "157/157 [==============================] - 13s 80ms/step - loss: 0.7257 - accuracy: 0.7444 - val_loss: 0.9634 - val_accuracy: 0.6791\n"
     ]
    }
   ],
   "source": [
    "hist = model.fit(x_train, y_train_numbers, batch_size=256, epochs=10, validation_split=0.2)"
   ]
  },
  {
   "cell_type": "markdown",
   "id": "6d21cab1-b1d0-4d6f-8b76-d3cbbfaa93e1",
   "metadata": {},
   "source": [
    "## Evaluar"
   ]
  },
  {
   "cell_type": "code",
   "execution_count": 15,
   "id": "68e24d52-e2d8-4e77-8d14-9e51f7bc2c1f",
   "metadata": {},
   "outputs": [
    {
     "name": "stdout",
     "output_type": "stream",
     "text": [
      "313/313 [==============================] - 1s 4ms/step - loss: 0.9744 - accuracy: 0.6671\n"
     ]
    },
    {
     "data": {
      "text/plain": [
       "0.6671000123023987"
      ]
     },
     "execution_count": 15,
     "metadata": {},
     "output_type": "execute_result"
    }
   ],
   "source": [
    "model.evaluate(x_test, y_test_numbers)[1]"
   ]
  },
  {
   "cell_type": "code",
   "execution_count": 16,
   "id": "27f7642f-1fde-4930-a868-a05b7e400379",
   "metadata": {},
   "outputs": [
    {
     "data": {
      "text/plain": [
       "<matplotlib.legend.Legend at 0x1677eb5aee0>"
      ]
     },
     "execution_count": 16,
     "metadata": {},
     "output_type": "execute_result"
    },
    {
     "data": {
      "image/png": "[encoded data removed]",
      "text/plain": [
       "<Figure size 432x288 with 1 Axes>"
      ]
     },
     "metadata": {
      "needs_background": "light"
     },
     "output_type": "display_data"
    }
   ],
   "source": [
    "plt.plot(hist.history[\"accuracy\"])\n",
    "plt.plot(hist.history[\"val_accuracy\"])\n",
    "plt.title(\"Model Accuracy\")\n",
    "plt.ylabel(\"Accuracy\")\n",
    "plt.xlabel(\"Epoch\")\n",
    "plt.legend([\"Train\", \"Val\"], loc=\"upper right\")"
   ]
  },
  {
   "cell_type": "markdown",
   "id": "f64a2e8f-4985-4406-8faf-f7e5de99190d",
   "metadata": {},
   "source": [
    "## Probar modelo con ejemplo real"
   ]
  },
  {
   "cell_type": "code",
   "execution_count": 28,
   "id": "e1e771e3-413e-4ca5-9c64-8a3259608cb1",
   "metadata": {},
   "outputs": [
    {
     "name": "stdout",
     "output_type": "stream",
     "text": [
      "[[[255 255 255]\n",
      "  [255 255 255]\n",
      "  [254 254 254]\n",
      "  ...\n",
      "  [195 241 106]\n",
      "  [197 243 108]\n",
      "  [199 245 110]]\n",
      "\n",
      " [[227 227 227]\n",
      "  [237 237 237]\n",
      "  [248 248 248]\n",
      "  ...\n",
      "  [193 239 104]\n",
      "  [195 241 106]\n",
      "  [197 243 108]]\n",
      "\n",
      " [[214 214 214]\n",
      "  [229 229 229]\n",
      "  [247 247 247]\n",
      "  ...\n",
      "  [192 236 101]\n",
      "  [194 238 103]\n",
      "  [196 240 105]]\n",
      "\n",
      " ...\n",
      "\n",
      " [[192 220 244]\n",
      "  [190 218 242]\n",
      "  [188 216 240]\n",
      "  ...\n",
      "  [171 216 249]\n",
      "  [178 223 255]\n",
      "  [170 215 248]]\n",
      "\n",
      " [[196 223 250]\n",
      "  [193 220 247]\n",
      "  [190 217 244]\n",
      "  ...\n",
      "  [171 216 249]\n",
      "  [178 223 255]\n",
      "  [170 215 248]]\n",
      "\n",
      " [[200 227 254]\n",
      "  [197 224 251]\n",
      "  [193 220 247]\n",
      "  ...\n",
      "  [171 216 249]\n",
      "  [178 223 255]\n",
      "  [170 215 248]]]\n"
     ]
    }
   ],
   "source": [
    "new_image = plt.imread(\"gatito.jpg\")\n",
    "print(new_image)"
   ]
  },
  {
   "cell_type": "code",
   "execution_count": 29,
   "id": "c9837cce-9733-4f52-bd24-ca668fc7f7c1",
   "metadata": {},
   "outputs": [],
   "source": [
    "from skimage.transform import resize\n",
    "resized_image = resize(new_image, (32,32,3))"
   ]
  },
  {
   "cell_type": "code",
   "execution_count": 30,
   "id": "cf2135a5-d5b1-44a3-8a35-8f26b511b00a",
   "metadata": {},
   "outputs": [
    {
     "name": "stdout",
     "output_type": "stream",
     "text": [
      "1/1 [==============================] - 0s 56ms/step\n"
     ]
    },
    {
     "data": {
      "text/plain": [
       "array([[0.00183773, 0.00482739, 0.03951793, 0.62641126, 0.00462409,\n",
       "        0.2544317 , 0.04641214, 0.01470944, 0.00331069, 0.00391759]],\n",
       "      dtype=float32)"
      ]
     },
     "execution_count": 30,
     "metadata": {},
     "output_type": "execute_result"
    }
   ],
   "source": [
    "predictions = model.predict(np.array([resized_image]))\n",
    "predictions"
   ]
  },
  {
   "cell_type": "code",
   "execution_count": 31,
   "id": "37b36207-d478-4a99-9504-6a26d972352d",
   "metadata": {},
   "outputs": [
    {
     "name": "stdout",
     "output_type": "stream",
     "text": [
      "[3, 5, 6, 2, 7, 1, 4, 9, 8, 0]\n"
     ]
    }
   ],
   "source": [
    "list_index = [0,1,2,3,4,5,6,7,8,9]\n",
    "x = predictions\n",
    "\n",
    "for i in range(10):\n",
    "    for j in range(10):\n",
    "        if x[0][list_index[i]] > x[0][list_index[j]]:\n",
    "            temp = list_index[i]\n",
    "            list_index[i] = list_index[j]\n",
    "            list_index[j] = temp\n",
    "\n",
    "print(list_index)"
   ]
  },
  {
   "cell_type": "code",
   "execution_count": 32,
   "id": "b3ca4b9b-11c1-410b-9331-5a3c9191343c",
   "metadata": {},
   "outputs": [
    {
     "name": "stdout",
     "output_type": "stream",
     "text": [
      "cat\n",
      "dog\n",
      "frog\n",
      "bird\n",
      "horse\n"
     ]
    }
   ],
   "source": [
    "for i in range(5):\n",
    "    print(classification_labels[list_index[i]])"
   ]
  },
  {
   "cell_type": "code",
   "execution_count": null,
   "id": "2dfa3f10-f9a3-4cae-ac31-9cc4417d0b14",
   "metadata": {},
   "outputs": [],
   "source": []
  }
 ],
 "metadata": {
  "kernelspec": {
   "display_name": "Python 3 (ipykernel)",
   "language": "python",
   "name": "python3"
  },
  "language_info": {
   "codemirror_mode": {
    "name": "ipython",
    "version": 3
   },
   "file_extension": ".py",
   "mimetype": "text/x-python",
   "name": "python",
   "nbconvert_exporter": "python",
   "pygments_lexer": "ipython3",
   "version": "3.9.7"
  }
 },
 "nbformat": 4,
 "nbformat_minor": 5
}
