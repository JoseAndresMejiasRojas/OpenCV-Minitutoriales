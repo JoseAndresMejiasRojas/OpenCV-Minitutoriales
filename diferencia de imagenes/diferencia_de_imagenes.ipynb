{
 "cells": [
  {
   "cell_type": "markdown",
   "id": "6604d1fc-3c0e-4c19-ae09-4d557b3ce2a3",
   "metadata": {},
   "source": [
    "## Instalar imutils"
   ]
  },
  {
   "cell_type": "code",
   "execution_count": null,
   "id": "1683162e-2883-403e-a76f-79942209075e",
   "metadata": {},
   "outputs": [],
   "source": [
    "!pip install imutils"
   ]
  },
  {
   "cell_type": "markdown",
   "id": "67d794c9-2b0a-4337-beb0-71a599bd1b2f",
   "metadata": {},
   "source": [
    "## Importar paquetes necesarios\n",
    "\n",
    "- `imutils` provee una serie de funciones (utils) para el procesamiento de imágenes.\n",
    "- `structural_similarity`: nos servirá para realizar la comparación usando [structural similarity](https://es.abcdef.wiki/wiki/Structural_similarity).\n",
    "- `cv2` es OpenCV para Python. Nos ayudará a abrir la imagen y realizar las operaciones necesarias para la detección de colores."
   ]
  },
  {
   "cell_type": "code",
   "execution_count": null,
   "id": "1322e49a-99a8-44b4-913b-cd47f6fa30ce",
   "metadata": {},
   "outputs": [],
   "source": [
    "from skimage.metrics import structural_similarity as compare_ssim\n",
    "import imutils\n",
    "import cv2"
   ]
  },
  {
   "cell_type": "markdown",
   "id": "e5a0d62b-9282-48b8-9eed-d49ee5382d57",
   "metadata": {},
   "source": [
    "## Cargar imágenes y convertir escala de grises\n",
    "\n",
    "La conversión a escala de grises se da para simplificar la imagen a la hora de hacer la comparación."
   ]
  },
  {
   "cell_type": "code",
   "execution_count": null,
   "id": "302157c7-2aa0-4739-85b1-24a035871763",
   "metadata": {},
   "outputs": [],
   "source": [
    "# Cargar imágenes\n",
    "imagen_A = cv2.imread(\"bad_card.jpg\")\n",
    "imagen_B = cv2.imread(\"good_card.jpg\")\n",
    "\n",
    "# Convertir a escala de grises\n",
    "gris_A = cv2.cvtColor(imagen_A, cv2.COLOR_BGR2GRAY)\n",
    "gris_B = cv2.cvtColor(imagen_B, cv2.COLOR_BGR2GRAY)"
   ]
  },
  {
   "cell_type": "markdown",
   "id": "0cf7a9ce-f652-4d47-b3c2-339258ec3e4e",
   "metadata": {},
   "source": [
    "## Comparación\n",
    "La comparación se hace con `compare_ssim`. Note que esa función retorna un `puntaje` y la `diferencia`. `puntaje` realmente representa el SSIM (medida del índice de similitud estructural). En otras palabras, es la diferencia entre dos imágenes. Ese valor puede estar entre [-1, 1], donde un valor de 1 sería que las imágenes calzan perfectamente y, por ende, no hay diferencia alguna. `diferencia` es un array de flotantes entre [-1, 1] que representa las diferencias entre las imágenes."
   ]
  },
  {
   "cell_type": "code",
   "execution_count": null,
   "id": "64cd742e-fe5d-47f1-b38e-9ee2ab9466fb",
   "metadata": {},
   "outputs": [],
   "source": [
    "(puntaje, array_diferencia) = compare_ssim(gris_A, gris_B, full=True)\n",
    "\n",
    "# Convertir de array de flotantes a enteros sin signo de 8 bits para luego procesarlo con OpenCV.\n",
    "imagen_diferencia = (array_diferencia * 255).astype(\"uint8\")\n",
    "\n",
    "print(\"SSIM: {}\".format(puntaje))"
   ]
  },
  {
   "cell_type": "markdown",
   "id": "1dbe666b-a5cc-4d13-b4af-dd6129afda23",
   "metadata": {},
   "source": [
    "## Obtener las regiones donde hay diferencias\n",
    "\n",
    "`imagen_thresh` representa una imagen que se le aplicó una técnica de [thresholding ](https://es.wikipedia.org/wiki/M%C3%A9todo_del_valor_umbral). Con los parámetros aplicados, se desplegarán en blanco únicamente las diferencias entre las dos imágenes. Todo lo que sea igual será negro. `regiones` son los sectores donde se ubican las diferencias entre las dos imágenes."
   ]
  },
  {
   "cell_type": "code",
   "execution_count": null,
   "id": "577d4050-2484-497d-880c-a139bde114b7",
   "metadata": {},
   "outputs": [],
   "source": [
    "imagen_thresh = cv2.threshold(imagen_diferencia, 0, 255, cv2.THRESH_BINARY_INV | cv2.THRESH_OTSU)[1]\n",
    "\n",
    "regiones = cv2.findContours(imagen_thresh.copy(), cv2.RETR_EXTERNAL, cv2.CHAIN_APPROX_SIMPLE)\n",
    "regiones = imutils.grab_contours(regiones)"
   ]
  },
  {
   "cell_type": "markdown",
   "id": "62055619-c282-4f1a-a0fb-d5441151bb1e",
   "metadata": {},
   "source": [
    "## Desplegar imágenes\n",
    "\n",
    "Se pintan rectángulos rojos en cada ventana donde se encuentren las diferencias entre las dos imágenes. Luego, se despliegan las 4 imágenes creadas."
   ]
  },
  {
   "cell_type": "code",
   "execution_count": null,
   "id": "f0ca864d-0979-475d-bf17-7db609456c66",
   "metadata": {},
   "outputs": [],
   "source": [
    "# Iterar sobre las regiones para pintar las diferencias\n",
    "for region in regiones:\n",
    "    (x, y, w, h) = cv2.boundingRect(region)\n",
    "    cv2.rectangle(imagen_A, (x, y), (x + w, y + h), (0, 0, 255), 2)\n",
    "    cv2.rectangle(imagen_B, (x, y), (x + w, y + h), (0, 0, 255), 2)\n",
    "    \n",
    "# Desplegar imagenes\n",
    "cv2.imshow(\"Original\", imagen_A)\n",
    "cv2.imshow(\"Falsa\", imagen_B)\n",
    "cv2.imshow(\"Diferencia\", imagen_diferencia)\n",
    "cv2.imshow(\"Thresh\", imagen_thresh)\n",
    "cv2.waitKey(0)\n",
    "cv2.destroyAllWindows()"
   ]
  }
 ],
 "metadata": {
  "kernelspec": {
   "display_name": "Python 3 (ipykernel)",
   "language": "python",
   "name": "python3"
  },
  "language_info": {
   "codemirror_mode": {
    "name": "ipython",
    "version": 3
   },
   "file_extension": ".py",
   "mimetype": "text/x-python",
   "name": "python",
   "nbconvert_exporter": "python",
   "pygments_lexer": "ipython3",
   "version": "3.9.7"
  }
 },
 "nbformat": 4,
 "nbformat_minor": 5
}
