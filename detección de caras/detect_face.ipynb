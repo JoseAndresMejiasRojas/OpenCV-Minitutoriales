{
 "cells": [
  {
   "cell_type": "markdown",
   "metadata": {},
   "source": [
    "# Detección de caras en tiempo real con OpenCV\n",
    "\n",
    "OpenCV trae incluido métodos para detectar objetos mediante los clasificadores de cascada, propuestos por Paul Viola y Michael Jones en 2001."
   ]
  },
  {
   "cell_type": "code",
   "execution_count": 3,
   "metadata": {},
   "outputs": [],
   "source": [
    "import imutils\n",
    "import cv2"
   ]
  },
  {
   "cell_type": "code",
   "execution_count": 10,
   "metadata": {},
   "outputs": [],
   "source": [
    "# Sirve para dibujar un rectángulo alrededor de cada cara detectada\n",
    "def draw_rectangles(coordinates, frame, color=(0, 255, 0), thickness=2):\n",
    "    for coords in coordinates:\n",
    "        x, y, w, h = coords\n",
    "        cv2.rectangle(frame, (x, y), (x+w, y+h), color, thickness)\n"
   ]
  },
  {
   "cell_type": "code",
   "execution_count": 12,
   "metadata": {},
   "outputs": [],
   "source": [
    "vid = cv2.VideoCapture(0)\n",
    "\n",
    "# Este objeto extrae las coordenadas de las caras en la imagen\n",
    "faceCascade = cv2.CascadeClassifier()\n",
    "# El modelo se obtuvo de https://github.com/opencv/opencv/tree/master/data/haarcascades\n",
    "faceCascade.load('haarcascade_frontalface_default.xml')\n",
    "\n",
    "\n",
    "while True:\n",
    "    ret, frame = vid.read()\n",
    "    if not ret:\n",
    "        break\n",
    "\n",
    "    # Normalizamos los frames a 500px de ancho\n",
    "    frame = imutils.resize(frame, width=500)\n",
    "\n",
    "    # Los pasamos a escala de grises y hacemos un suavizado\n",
    "    grayscale_frame = cv2.cvtColor(frame, cv2.COLOR_BGR2GRAY)\n",
    "    grayscale_frame = cv2.GaussianBlur(grayscale_frame, (21, 21), 0)\n",
    "\n",
    "    # Aquí detectamos las caras\n",
    "    face = faceCascade.detectMultiScale(frame)\n",
    "\n",
    "    draw_rectangles(face, frame)\n",
    "\n",
    "\n",
    "    cv2.imshow(\"\", frame)\n",
    "\n",
    "    key = cv2.waitKey(1) & 0xFF\n",
    "\n",
    "    if key == ord(\"q\"):\n",
    "        break\n",
    "vid.release()\n",
    "cv2.destroyAllWindows()"
   ]
  }
 ],
 "metadata": {
  "kernelspec": {
   "display_name": "Python 3.10.4 ('opencv-tut')",
   "language": "python",
   "name": "python3"
  },
  "language_info": {
   "codemirror_mode": {
    "name": "ipython",
    "version": 3
   },
   "file_extension": ".py",
   "mimetype": "text/x-python",
   "name": "python",
   "nbconvert_exporter": "python",
   "pygments_lexer": "ipython3",
   "version": "3.10.4"
  },
  "orig_nbformat": 4,
  "vscode": {
   "interpreter": {
    "hash": "2bb8936b375f11556977b459ee8bcb8c27feb2a5505f3f8a2eed58efe440b354"
   }
  }
 },
 "nbformat": 4,
 "nbformat_minor": 2
}
