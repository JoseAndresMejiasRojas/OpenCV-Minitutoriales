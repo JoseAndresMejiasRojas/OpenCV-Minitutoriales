{
 "cells": [
  {
   "cell_type": "markdown",
   "metadata": {},
   "source": [
    "# Detección de movimiento en un video\n",
    "\n",
    "Existen múltiples maneras de detectar el movimiento, la más básica es suponer que en el primer cuadro del video no hay movimiento y a partir de ahí, revisar qué tan diferente son los demás frames respecto al primero.\n",
    "Si son muy diferentes (especificado por algún threshold), entonces se toma como que hubo algún movimiento.  \n",
    "La desventaja con este método es que incluso en un lugar donde no hay movimiento, pueden haber cambios, por ejemplo, las condiciones de luz pueden variar conforme avanza el día.\n",
    "Para mejorar este método lo que se hace es tomar el fondo del video (este se determina a partir de los últimos n frames del video que se han visto) y ver hay algún objeto que haya cambiado.\n",
    "\n",
    "En el presente notebook se muestra una forma de realizar este último procedimiento con el uso de OpenCV y uno de los substractores de fondo que ya vienen implementados en la biblioteca."
   ]
  },
  {
   "cell_type": "code",
   "execution_count": 1,
   "metadata": {},
   "outputs": [],
   "source": [
    "import imutils\n",
    "import cv2"
   ]
  },
  {
   "cell_type": "code",
   "execution_count": 2,
   "metadata": {},
   "outputs": [],
   "source": [
    "# Sirve para dibujar un rectángulo alrededor de cada contorno detectado\n",
    "def draw_rectangles(contours, frame, min_area = 500, color=(0, 255, 0), thickness=2):\n",
    "    occupied = False\n",
    "    for contour in contours:\n",
    "        if cv2.contourArea(contour) < min_area:\n",
    "            continue\n",
    "        x, y, w, h = cv2.boundingRect(contour)\n",
    "        cv2.rectangle(frame, (x, y), (x+w, y+h), color, thickness)\n",
    "        occupied  = True\n",
    "    return occupied"
   ]
  },
  {
   "cell_type": "code",
   "execution_count": 5,
   "metadata": {},
   "outputs": [],
   "source": [
    "vid = cv2.VideoCapture(0)\n",
    "min_area = 3000\n",
    "text_font = cv2.FONT_HERSHEY_SIMPLEX\n",
    "\n",
    "# Este objeto nos va a ayudar a extraer el fondo de cada cuadro del video\n",
    "fgbg = cv2.createBackgroundSubtractorMOG2()\n",
    "\n",
    "while True:\n",
    "    ret, frame = vid.read()\n",
    "    if not ret:\n",
    "        break\n",
    "\n",
    "    # Normalizamos los frames a 500px de ancho\n",
    "    frame = imutils.resize(frame, width=500)\n",
    "\n",
    "    # Los pasamos a escala de grises y hacemos un suavizado\n",
    "    grayscale_frame = cv2.cvtColor(frame, cv2.COLOR_BGR2GRAY)\n",
    "    grayscale_frame = cv2.GaussianBlur(grayscale_frame, (21, 21), 0)\n",
    "\n",
    "    # Extraemos el fondo, y nos queda sólo aquellos objetos que están al frente y podrían estar en movimiento\n",
    "    fgmask = fgbg.apply(frame)\n",
    "\n",
    "    # Sólo aquellas partes del frente pasen el corte se consideran en movimiento\n",
    "    thresh = cv2.threshold(fgmask, 25, 255, cv2.THRESH_BINARY)[1]\n",
    "    thresh = cv2.dilate(thresh, None, iterations=2)\n",
    "\n",
    "    contours = cv2.findContours(\n",
    "        thresh.copy(), cv2.RETR_EXTERNAL, cv2.CHAIN_APPROX_SIMPLE)\n",
    "    contours = imutils.grab_contours(contours)\n",
    "    occupied = draw_rectangles(contours, frame, min_area)\n",
    "\n",
    "    cv2.imshow(\"Security Feed\", frame)\n",
    "    cv2.imshow(\"Threshold\", thresh)\n",
    "    cv2.imshow(\"Mask\", fgmask)\n",
    "\n",
    "    key = cv2.waitKey(1) & 0xFF\n",
    "\n",
    "    if key == ord(\"q\"):\n",
    "        break\n",
    "vid.release()\n",
    "cv2.destroyAllWindows()"
   ]
  },
  {
   "cell_type": "markdown",
   "metadata": {},
   "source": [
    "## Fuentes\n",
    "\n",
    "- [Visual tracking of human visitors under variable-lighting conditions for a responsive audio art installation](https://ieeexplore.ieee.org/document/6315174)\n",
    "- [How to Use Background Subtraction Methods](https://docs.opencv.org/4.x/d1/dc5/tutorial_background_subtraction.html)\n",
    "- [Basic motion detection and tracking with Python and OpenCV](https://pyimagesearch.com/2015/05/25/basic-motion-detection-and-tracking-with-python-and-opencv/)"
   ]
  }
 ],
 "metadata": {
  "kernelspec": {
   "display_name": "Python 3 (ipykernel)",
   "language": "python",
   "name": "python3"
  },
  "language_info": {
   "codemirror_mode": {
    "name": "ipython",
    "version": 3
   },
   "file_extension": ".py",
   "mimetype": "text/x-python",
   "name": "python",
   "nbconvert_exporter": "python",
   "pygments_lexer": "ipython3",
   "version": "3.10.4"
  },
  "vscode": {
   "interpreter": {
    "hash": "2bb8936b375f11556977b459ee8bcb8c27feb2a5505f3f8a2eed58efe440b354"
   }
  }
 },
 "nbformat": 4,
 "nbformat_minor": 4
}
