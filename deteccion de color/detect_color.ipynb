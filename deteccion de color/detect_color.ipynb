{
 "cells": [
  {
   "cell_type": "markdown",
   "id": "70b0c92e-a21a-4eb1-b6d5-f8e5bb21a923",
   "metadata": {},
   "source": [
    "## Instalar OpenCV"
   ]
  },
  {
   "cell_type": "code",
   "execution_count": 6,
   "id": "742a5395-10a0-47db-9db3-267f29f25541",
   "metadata": {},
   "outputs": [
    {
     "name": "stdout",
     "output_type": "stream",
     "text": [
      "Requirement already satisfied: opencv-python in c:\\users\\usuario\\anaconda3\\lib\\site-packages (4.6.0.66)\n",
      "Requirement already satisfied: numpy>=1.19.3 in c:\\users\\usuario\\anaconda3\\lib\\site-packages (from opencv-python) (1.20.3)\n"
     ]
    }
   ],
   "source": [
    "!pip install opencv-python"
   ]
  },
  {
   "cell_type": "markdown",
   "id": "2ff3627f-5e62-4846-bbc4-9d9fa6bcaa94",
   "metadata": {},
   "source": [
    "## Importar paquetes necesarios\n",
    "\n",
    "- `numpy` servirá para convertir unos arrays que veremos más adelante.\n",
    "- `cv2` es OpenCV para Python. Nos ayudará a abrir la imagen y realizar las operaciones necesarias para la detección de colores."
   ]
  },
  {
   "cell_type": "code",
   "execution_count": 7,
   "id": "32207bf0-1a28-4c77-9265-a7e35d274be2",
   "metadata": {},
   "outputs": [],
   "source": [
    "import numpy as np\n",
    "import cv2"
   ]
  },
  {
   "cell_type": "markdown",
   "id": "527cbaed-8610-47fb-9aec-669cce7b75c8",
   "metadata": {},
   "source": [
    "## Leer imagen para aplicar detección"
   ]
  },
  {
   "cell_type": "code",
   "execution_count": 8,
   "id": "7252c0c6-f5b2-4dd7-8909-78fe8521fd40",
   "metadata": {},
   "outputs": [],
   "source": [
    "imagen = cv2.imread('rumania.png')"
   ]
  },
  {
   "cell_type": "markdown",
   "id": "33f4b949-0e10-4a60-a624-3b235cf9535b",
   "metadata": {},
   "source": [
    "## Colores a detectar\n",
    "\n",
    "Para poder realizar la detección con este método, hay que definir los límites de los colores deseados. Cada color de la lista necesita un mínimo y un máximo. Así, OpenCV podría detectar entre los rangos definidos, ya que es sumamente complicado detectar un color de una forma exacta.\n",
    "\n",
    "Para definir cada color, usaremos [RGB](https://en.wikipedia.org/wiki/RGB_color_model) como formato. Para esto, simplemente hay que definir un color oscuro como el mínimo y un color claro como el máximo. Sin embargo, OpenCV lee este formato de forma opuesta. Así que cada elemento tiene que tener el formato *(BGR, BGR)*, donde *BGR* es un array de 3 enteros.\n",
    "\n",
    "En este ejemplo en particular, queremos detectar si una imagen tiene rojo o azul, y amarillo. Si tomamos por ejemplo el color amarillo, definimo un color mínimo en formato RGB de `(206, 206, 0)` <span style=\"color:rgb(206, 206, 0)\">■</span> y un máximo de `(252, 252, 73)` <span style=\"color:rgb(252,252,73)\">■</span>. Pero como OpenCV recibe los arrays al revés, tenemos que definir el elemento `([0, 206, 206], [73, 252, 252])`."
   ]
  },
  {
   "cell_type": "code",
   "execution_count": 9,
   "id": "53f6ea2a-b29a-4095-bf2f-06efaa21224c",
   "metadata": {},
   "outputs": [],
   "source": [
    "# Lista de arrays con limites. Cada rango es el color minimo y maximo a detectar.\n",
    "limites = [\n",
    "    ([1, 0, 66], [100, 106, 252]), # Rojo\n",
    "    ([33, 11, 0], [252, 134, 70]), # Azul\n",
    "    ([0, 206, 206], [73, 252, 252]), # Amarillo.\n",
    "]"
   ]
  },
  {
   "cell_type": "markdown",
   "id": "9504d7d8-e548-4569-aa2a-a8a0ccee0bb7",
   "metadata": {},
   "source": [
    "## Detección de cada color límite\n",
    "\n",
    "El último paso es iterar sobre los límites recién definidos. Por cada límite definido, necesitamos primeramente convertir los arrays mínimos y máximos a NumPy ya que ese es el tipo que acepta OpenCV. Luego, para realizar la detección utilizamos el método proveído por OpenCV `inRange`, el cual recibe la imagen deseada y los arrays convertidos a NumPy. Por último, por mera demostración, desplegaremos en una nueva imagen los sectores donde identifiquemos los colores detectados. Para esto, aplicamos una máscara para realizar la diferencia, y desplegamos en una ventana la imagen original y la imagen con la máscara del color detectado."
   ]
  },
  {
   "cell_type": "code",
   "execution_count": 10,
   "id": "ec2262dc-abdc-4ab8-9992-aa8266d329d9",
   "metadata": {},
   "outputs": [],
   "source": [
    "# Iterar sobre cada limite\n",
    "for (min_lista, max_lista) in limites:\n",
    "    # Conversion a NumPy\n",
    "    min_array = np.array(min_lista, dtype = \"uint8\")\n",
    "    max_array = np.array(max_lista, dtype = \"uint8\")\n",
    "    \n",
    "    # Encontrar color entre los limites\n",
    "    mascara = cv2.inRange(imagen, min_array, max_array)\n",
    "    \n",
    "    # Aplicar mascara para resaltar deteccion\n",
    "    output = cv2.bitwise_and(imagen, imagen, mask = mascara)\n",
    "    \n",
    "    # Desplegar imagen original e imagen con mascara de color encontrado\n",
    "    cv2.imshow(\"Deteccion de colores\", np.hstack([imagen, output]))\n",
    "    cv2.waitKey(0)\n",
    "cv2.destroyAllWindows()"
   ]
  },
  {
   "cell_type": "code",
   "execution_count": null,
   "id": "fc5fa050-719b-4a2a-9a9f-1fde166c6c74",
   "metadata": {},
   "outputs": [],
   "source": []
  }
 ],
 "metadata": {
  "kernelspec": {
   "display_name": "Python 3 (ipykernel)",
   "language": "python",
   "name": "python3"
  },
  "language_info": {
   "codemirror_mode": {
    "name": "ipython",
    "version": 3
   },
   "file_extension": ".py",
   "mimetype": "text/x-python",
   "name": "python",
   "nbconvert_exporter": "python",
   "pygments_lexer": "ipython3",
   "version": "3.9.7"
  }
 },
 "nbformat": 4,
 "nbformat_minor": 5
}
